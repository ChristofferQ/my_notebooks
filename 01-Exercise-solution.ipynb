{
 "cells": [
  {
   "cell_type": "markdown",
   "id": "c9d98596-ee02-4037-9890-5a5cce8d35c8",
   "metadata": {},
   "source": [
    "# 01-Exercise-Solutions"
   ]
  },
  {
   "cell_type": "markdown",
   "id": "5a7b2ba3-ce87-4abf-b549-db67df661f3f",
   "metadata": {},
   "source": [
    "### 2 Iterate a list of names to return a list of the names starting with H"
   ]
  },
  {
   "cell_type": "code",
   "execution_count": null,
   "id": "6f2adca4-4e51-4b98-91a6-ac2f968ead8f",
   "metadata": {},
   "outputs": [
    {
     "name": "stdout",
     "output_type": "stream",
     "text": [
      "['Herbert', 'Hubert', 'Holly', 'Dennis', 'Børge']\n",
      "['Herbert', 'Hubert', 'Holly']\n"
     ]
    }
   ],
   "source": [
    "my_name_list = [\"Herbert\", \"Hubert\", \"Holly\", \"Dennis\", \"Børge\"]\n",
    "print(my_name_list)\n",
    "\n",
    "check = 'H'\n",
    "\n",
    "# Checker på index 0 (starten af navnet) om det matcher H og lower h.\n",
    "\n",
    "result = [idx for idx in my_name_list if idx[0].lower() == check.lower()]\n",
    "print(result)"
   ]
  },
  {
   "cell_type": "markdown",
   "id": "d427705c-f5b1-4324-8ca2-586def7f297d",
   "metadata": {},
   "source": [
    "### 3 In one line create a list of the numbers 1-100 to the power of 3"
   ]
  },
  {
   "cell_type": "code",
   "execution_count": null,
   "id": "fa530fc8-750c-481d-adad-23de59b2a7bb",
   "metadata": {},
   "outputs": [
    {
     "name": "stdout",
     "output_type": "stream",
     "text": [
      "[1, 2, 3, 4, 5, 6, 7, 8, 9, 10, 11, 12, 13, 14, 15, 16, 17, 18, 19, 20, 21, 22, 23, 24, 25, 26, 27, 28, 29, 30, 31, 32, 33, 34, 35, 36, 37, 38, 39, 40, 41, 42, 43, 44, 45, 46, 47, 48, 49, 50, 51, 52, 53, 54, 55, 56, 57, 58, 59, 60, 61, 62, 63, 64, 65, 66, 67, 68, 69, 70, 71, 72, 73, 74, 75, 76, 77, 78, 79, 80, 81, 82, 83, 84, 85, 86, 87, 88, 89, 90, 91, 92, 93, 94, 95, 96, 97, 98, 99, 100]\n"
     ]
    }
   ],
   "source": [
    "my_number_list = list(range(1,101))\n",
    "print(my_number_list)"
   ]
  },
  {
   "cell_type": "code",
   "execution_count": null,
   "id": "7c2e8c6d-ced6-4093-af6e-8d123c0e7c90",
   "metadata": {},
   "outputs": [
    {
     "name": "stdout",
     "output_type": "stream",
     "text": [
      "[1, 8, 27, 64, 125, 216, 343, 512, 729, 1000, 1331, 1728, 2197, 2744, 3375, 4096, 4913, 5832, 6859, 8000, 9261, 10648, 12167, 13824, 15625, 17576, 19683, 21952, 24389, 27000, 29791, 32768, 35937, 39304, 42875, 46656, 50653, 54872, 59319, 64000, 68921, 74088, 79507, 85184, 91125, 97336, 103823, 110592, 117649, 125000, 132651, 140608, 148877, 157464, 166375, 175616, 185193, 195112, 205379, 216000, 226981, 238328, 250047, 262144, 274625, 287496, 300763, 314432, 328509, 343000, 357911, 373248, 389017, 405224, 421875, 438976, 456533, 474552, 493039, 512000, 531441, 551368, 571787, 592704, 614125, 636056, 658503, 681472, 704969, 729000, 753571, 778688, 804357, 830584, 857375, 884736, 912673, 941192, 970299, 1000000]\n"
     ]
    }
   ],
   "source": [
    "my_comp = [element**3 for element in my_number_list]\n",
    "print(my_comp)"
   ]
  },
  {
   "cell_type": "markdown",
   "id": "c2432ae7-03ad-4272-91cd-bc2f7d71a3b4",
   "metadata": {},
   "source": [
    "### 4 Iterate a list of names to create a list of tuples where the tuples first value is the length of the name and the second is the name"
   ]
  },
  {
   "cell_type": "code",
   "execution_count": null,
   "id": "c0666c83-a005-49d5-bc10-0744c928f6c3",
   "metadata": {},
   "outputs": [
    {
     "name": "stdout",
     "output_type": "stream",
     "text": [
      "Custom tuple list: [(2, 'Bo'), (6, 'Dennis')]\n",
      "Tuple list with length calculating: [(2, 'Bo'), (6, 'Dennis')]\n"
     ]
    },
    {
     "name": "stdin",
     "output_type": "stream",
     "text": [
      "enter name test\n",
      "enter name est\n"
     ]
    },
    {
     "name": "stdout",
     "output_type": "stream",
     "text": [
      "Tuple list with input: [(4, 'test'), (3, 'est')]\n"
     ]
    }
   ],
   "source": [
    "my_tuple_list = [(2, \"Bo\"),(6, \"Dennis\")]\n",
    "print(\"Custom tuple list:\",my_tuple_list)\n",
    "\n",
    "my_tuple_list1 = [(len(\"Bo\"),\"Bo\"), (len(\"Dennis\"),\"Dennis\")]\n",
    "print(\"Tuple list with length calculating:\",my_tuple_list1)\n",
    "\n",
    "in1 = input(\"enter name\")\n",
    "in2 = input(\"enter name\")\n",
    "\n",
    "my_tuple_list2 = [(len(in1),in1), (len(in2),in2)]\n",
    "print(\"Tuple list with input:\",my_tuple_list2)"
   ]
  },
  {
   "cell_type": "markdown",
   "id": "361ec597-d1a6-4e91-b652-680616872c98",
   "metadata": {},
   "source": [
    "### 5 Iterate over each character in a string and get only those that are nummeric"
   ]
  },
  {
   "cell_type": "code",
   "execution_count": null,
   "id": "4e2286e8-0a2a-489a-a786-58ce3fe58661",
   "metadata": {},
   "outputs": [
    {
     "name": "stdout",
     "output_type": "stream",
     "text": [
      "Find numbers from string: 2985\n"
     ]
    }
   ],
   "source": [
    "new_string = \"hHudlJ298Jt5\"\n",
    "\n",
    "emp_str = \"\"\n",
    "for m in new_string:\n",
    "    if m.isdigit():\n",
    "        emp_str = emp_str + m\n",
    "print(\"Find numbers from string:\",emp_str) "
   ]
  },
  {
   "cell_type": "markdown",
   "id": "588b7983-3023-434a-b2e0-ad1aa0429798",
   "metadata": {},
   "source": [
    "### 6 Using only a list comprehension wrapped in set() get all possible combinations from throwing 2 dice (hint use 2 for loops in a single list comprehension). Result should look like: [2,3,4,5,6,7,8,...] or a more complex/accurate solution: [(1,1),(1,2)...] in a way that (1,2) is equal to (2,1)."
   ]
  },
  {
   "cell_type": "code",
   "execution_count": 4,
   "id": "d05cd17e-aeac-4bb0-bea1-79ebd2c79839",
   "metadata": {},
   "outputs": [
    {
     "name": "stdout",
     "output_type": "stream",
     "text": [
      "{(3, 4), (4, 6), (2, 2), (1, 6), (2, 5), (1, 3), (4, 5), (3, 3), (5, 6), (3, 6), (2, 4), (1, 2), (1, 5), (3, 5), (4, 4), (5, 5), (1, 1), (1, 4), (2, 3), (2, 6), (6, 6)}\n"
     ]
    }
   ],
   "source": [
    "diceRoll = set([(dice1, dice2) for dice1 in range(1,7) for dice2 in range(1,7) if not dice1>dice2])\n",
    "print(diceRoll)"
   ]
  },
  {
   "cell_type": "markdown",
   "id": "cf41fe2e-3c0b-4158-a22c-61fe61cb49a8",
   "metadata": {},
   "source": [
    "## 7 Create 2 dictionary comprehensions to solve the following:"
   ]
  },
  {
   "cell_type": "markdown",
   "id": "4526a1a6-8b57-48b9-b750-c9c7f8806125",
   "metadata": {},
   "source": [
    "### 8 Iterate a list of names and create a dictionary where key is the name and value is the length of the name"
   ]
  },
  {
   "cell_type": "code",
   "execution_count": 6,
   "id": "ef97d00c-aa8e-45ab-83bd-84aa86612e8f",
   "metadata": {},
   "outputs": [
    {
     "data": {
      "text/plain": [
       "{'Bo': 2, 'Børge': 5, 'Bob': 3, 'Benny': 5}"
      ]
     },
     "execution_count": 6,
     "metadata": {},
     "output_type": "execute_result"
    }
   ],
   "source": [
    "names = ['Bo','Børge','Bob','Benny']\n",
    "\n",
    "NamesDic = {name:len(name) for name in names}\n",
    "\n",
    "NamesDic\n"
   ]
  },
  {
   "cell_type": "markdown",
   "id": "1b39edf9-7b45-4c57-b015-02aafabdf504",
   "metadata": {},
   "source": [
    "### 9 Iterate a list of numbers and create a dictionary with {key:value} being {number:squareroot_of_number}"
   ]
  },
  {
   "cell_type": "code",
   "execution_count": 8,
   "id": "d7a67cd4-2866-4b0d-b045-70bbb5748f3b",
   "metadata": {},
   "outputs": [
    {
     "data": {
      "text/plain": [
       "{1: 1.0,\n",
       " 2: 1.4142135623730951,\n",
       " 3: 1.7320508075688772,\n",
       " 4: 2.0,\n",
       " 5: 2.23606797749979}"
      ]
     },
     "execution_count": 8,
     "metadata": {},
     "output_type": "execute_result"
    }
   ],
   "source": [
    "import math\n",
    "\n",
    "numbers = [1,2,3,4,5]\n",
    "\n",
    "NumbersDic = {number:math.sqrt(number) for number in numbers}\n",
    "\n",
    "NumbersDic"
   ]
  },
  {
   "cell_type": "markdown",
   "id": "678ba7db-d61d-4358-b138-f0b8a42fcce5",
   "metadata": {},
   "source": [
    "### 10 Extra assignment (This one goes beyond what is covered in the course notebooks. So only do it if you want an extra challenge)."
   ]
  },
  {
   "cell_type": "markdown",
   "id": "a3d6f062-4eaa-4e1d-bc72-dd0b733e6a5a",
   "metadata": {},
   "source": [
    "#### Progammatically using loops create a small program to produce a dictionary with all the 2 dice throw combinations as keys (eg: 2,3,4...etc) and their likelyhood in percent as values"
   ]
  },
  {
   "cell_type": "code",
   "execution_count": 9,
   "id": "a976a73b-fc20-4c38-9387-a2e3e75104d1",
   "metadata": {},
   "outputs": [
    {
     "name": "stdout",
     "output_type": "stream",
     "text": [
      "{2: 2.78, 3: 5.56, 4: 8.33, 5: 11.11, 6: 13.89, 7: 16.67, 8: 13.89, 9: 11.11, 10: 8.33, 11: 5.56, 12: 2.78}\n"
     ]
    }
   ],
   "source": [
    "dices = [dice1+dice2 for dice1 in range(1,7) for dice2 in range (1,7)]\n",
    "likelyhood = {dice:round(dices.count(dice)/len(dices)*100,2) for dice in dices}\n",
    "print(likelyhood)"
   ]
  }
 ],
 "metadata": {
  "kernelspec": {
   "display_name": "Python 3 (ipykernel)",
   "language": "python",
   "name": "python3"
  },
  "language_info": {
   "codemirror_mode": {
    "name": "ipython",
    "version": 3
   },
   "file_extension": ".py",
   "mimetype": "text/x-python",
   "name": "python",
   "nbconvert_exporter": "python",
   "pygments_lexer": "ipython3",
   "version": "3.10.5"
  }
 },
 "nbformat": 4,
 "nbformat_minor": 5
}
