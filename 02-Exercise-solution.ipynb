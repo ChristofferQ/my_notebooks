{
 "cells": [
  {
   "cell_type": "markdown",
   "id": "bf249d42-7d14-48f6-ac92-91756ed02f55",
   "metadata": {},
   "source": [
    "## Exercise 1\n",
    "1. Create a python file with 3 functions:\n",
    "  1. `def print_file_content(file)` that can print content of a csv file to the console\n",
    "  2. `def write_list_to_file(output_file, lst)` that can take a list or tuple of strings and write each element to a new line in file\n",
    "    1. rewrite the function so that it gets an arbitrary number of strings instead of a list\n",
    "  3. `def read_csv(input_file)` that take a csv file and read each row into a list. Print the list.\n",
    "2. Add a functionality so that the file can be called from cli with 2 arguments:\n",
    "  1. path to csv file\n",
    "  2. an argument `--file file_name` that if given will write the content to file_name or otherwise will print it to the console.\n",
    "3. Add a --help cli argument to describe how the module is used  "
   ]
  },
  {
   "cell_type": "code",
   "execution_count": 1,
   "id": "7ff0b618-408d-451e-bd92-712a48857f0f",
   "metadata": {},
   "outputs": [
    {
     "name": "stdout",
     "output_type": "stream",
     "text": [
      "1   Ryan    Giggs   £13.50  23  Manchester  Utd\n",
      "2   David   Beckham £40.00  24  Manchester  Utd\n",
      "3   Michael Owen    £22.00  22  Liverpool\n",
      "4   Robbie  Fowler  £21.00  23  Leeds Utd\n"
     ]
    }
   ],
   "source": [
    "import csv\n",
    "\n",
    "with open(\"Footballers.csv\") as f:\n",
    "    reader = csv.reader(f)\n",
    "    for row in reader:\n",
    "        print(\" \".join(row))"
   ]
  },
  {
   "cell_type": "code",
   "execution_count": 6,
   "id": "f1f18748-aa0b-4804-beed-ebfea1803c93",
   "metadata": {},
   "outputs": [
    {
     "name": "stdout",
     "output_type": "stream",
     "text": [
      "1   Ryan    Giggs   £13.50  23  Manchester  Utd\n",
      "2   David   Beckham £40.00  24  Manchester  Utd\n",
      "3   Michael Owen    £22.00  22  Liverpool\n",
      "4   Robbie  Fowler  £21.00  23  Leeds Utd\n"
     ]
    }
   ],
   "source": [
    "from Exercise import print_file_content\n",
    "\n",
    "print_file_content(\"Footballers.csv\")"
   ]
  },
  {
   "cell_type": "code",
   "execution_count": 2,
   "id": "f53b0db7-0659-43ad-93c2-20fc442642f3",
   "metadata": {},
   "outputs": [
    {
     "name": "stdout",
     "output_type": "stream",
     "text": [
      "1   Ryan    Giggs   £13.50  23  Manchester  Utd\n",
      "2   David   Beckham £40.00  24  Manchester  Utd\n",
      "3   Michael Owen    £22.00  22  Liverpool\n",
      "4   Robbie  Fowler  £21.00  23  Leeds Utd\n"
     ]
    }
   ],
   "source": [
    "def print_file_content(file):\n",
    "    import csv\n",
    "    \n",
    "    with open(file) as f:\n",
    "        reader = csv.reader(f)\n",
    "        for row in reader:\n",
    "            print(\" \".join(row))\n",
    "            \n",
    "print_file_content(\"Footballers.csv\")"
   ]
  },
  {
   "cell_type": "code",
   "execution_count": 5,
   "id": "abd91056-42ff-407a-a97e-788c2469e435",
   "metadata": {},
   "outputs": [],
   "source": [
    "from Exercise import write_list_to_file\n",
    "\n",
    "write_list_to_file('output.csv','w')"
   ]
  },
  {
   "cell_type": "code",
   "execution_count": 6,
   "id": "c2739faf-c5c2-404b-bcc6-75639c5b6de8",
   "metadata": {},
   "outputs": [
    {
     "name": "stdout",
     "output_type": "stream",
     "text": [
      "2015,1,0,5100,\"614,5\"\n",
      "2015,1,0,5104,\"2,3\"\n",
      "2015,1,0,5106,1\n",
      "2015,1,0,5110,1\n",
      "2022,this,is,a,test\n"
     ]
    }
   ],
   "source": [
    "!cat output.csv"
   ]
  },
  {
   "cell_type": "code",
   "execution_count": 1,
   "id": "79b77415-5582-4a4b-a107-c4d5b3b8abeb",
   "metadata": {},
   "outputs": [
    {
     "ename": "ImportError",
     "evalue": "cannot import name 'read_csv' from 'Exercise' (/home/jovyan/my_notebooks/Exercise.py)",
     "output_type": "error",
     "traceback": [
      "\u001b[0;31m---------------------------------------------------------------------------\u001b[0m",
      "\u001b[0;31mImportError\u001b[0m                               Traceback (most recent call last)",
      "Input \u001b[0;32mIn [1]\u001b[0m, in \u001b[0;36m<cell line: 1>\u001b[0;34m()\u001b[0m\n\u001b[0;32m----> 1\u001b[0m \u001b[38;5;28;01mfrom\u001b[39;00m \u001b[38;5;21;01mExercise\u001b[39;00m \u001b[38;5;28;01mimport\u001b[39;00m read_csv\n\u001b[1;32m      3\u001b[0m read_csv(\u001b[38;5;124m'\u001b[39m\u001b[38;5;124mFootballers.csv\u001b[39m\u001b[38;5;124m'\u001b[39m)\n",
      "\u001b[0;31mImportError\u001b[0m: cannot import name 'read_csv' from 'Exercise' (/home/jovyan/my_notebooks/Exercise.py)"
     ]
    }
   ],
   "source": [
    "from Exercise import read_csv\n",
    "\n",
    "read_csv('Footballers.csv')"
   ]
  },
  {
   "cell_type": "markdown",
   "id": "dc489fa4-760a-4dcd-b69b-38ba0ca9bd5c",
   "metadata": {},
   "source": [
    "## Exercise 2\n",
    "Create a module called utils.py with the following 5 functions:\n",
    "\n",
    "```python\n",
    "def get_file_names(folderpath,out=output.txt):\n",
    "    \"\"\" takes a path to a folder and writes all filenames in the folder to a specified output file\"\"\"\n",
    "\n",
    "def get_all_file_names(folderpath,out=output.txt):\n",
    "    \"\"\"takes a path to a folder and write all filenames recursively (files of all sub folders to)\"\"\"\n",
    "\n",
    "def print_line_one(file_names):\n",
    "    \"\"\"takes a list of filenames and print the first line of each\"\"\"\n",
    "\n",
    "def print_emails(file_names):\n",
    "    \"\"\"takes a list of filenames and print each line that contains an email (just look for @)\"\"\"\n",
    "\n",
    "def write_headlines(md_files, out=output.txt):\n",
    "    \"\"\"takes a list of md files and writes all headlines (lines starting with #) to a file\"\"\"\n",
    "\n",
    "```\n",
    "Make sure your module can be called both from cli and imported to another module\n",
    "Create a new module that imports utils.py and test each function."
   ]
  },
  {
   "cell_type": "code",
   "execution_count": null,
   "id": "0adb4251-0e77-42b9-8d57-50cecbf94150",
   "metadata": {},
   "outputs": [],
   "source": []
  },
  {
   "cell_type": "code",
   "execution_count": null,
   "id": "6ff7c49e-531a-43a5-af2b-d21606a6562c",
   "metadata": {},
   "outputs": [],
   "source": []
  }
 ],
 "metadata": {
  "kernelspec": {
   "display_name": "Python 3 (ipykernel)",
   "language": "python",
   "name": "python3"
  },
  "language_info": {
   "codemirror_mode": {
    "name": "ipython",
    "version": 3
   },
   "file_extension": ".py",
   "mimetype": "text/x-python",
   "name": "python",
   "nbconvert_exporter": "python",
   "pygments_lexer": "ipython3",
   "version": "3.10.5"
  }
 },
 "nbformat": 4,
 "nbformat_minor": 5
}
