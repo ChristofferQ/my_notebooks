{
 "cells": [
  {
   "cell_type": "markdown",
   "id": "ef6de6f6-55b7-4c92-b316-58429c84b479",
   "metadata": {
    "tags": []
   },
   "source": [
    "## Class exercise 1: table\n",
    "![](images/numpy_slice_ex.png)\n",
    "- on the above image find the 5 different slicings using only the array slicing notation"
   ]
  },
  {
   "cell_type": "code",
   "execution_count": null,
   "id": "864d5833-0160-4fa4-bb82-d0f4a2af226c",
   "metadata": {},
   "outputs": [],
   "source": []
  }
 ],
 "metadata": {
  "kernelspec": {
   "display_name": "Python 3 (ipykernel)",
   "language": "python",
   "name": "python3"
  },
  "language_info": {
   "codemirror_mode": {
    "name": "ipython",
    "version": 3
   },
   "file_extension": ".py",
   "mimetype": "text/x-python",
   "name": "python",
   "nbconvert_exporter": "python",
   "pygments_lexer": "ipython3",
   "version": "3.10.5"
  }
 },
 "nbformat": 4,
 "nbformat_minor": 5
}
