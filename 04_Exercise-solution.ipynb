{
 "cells": [
  {
   "cell_type": "markdown",
   "id": "ef6de6f6-55b7-4c92-b316-58429c84b479",
   "metadata": {
    "tags": []
   },
   "source": [
    "## Class exercise 1: table\n",
    "![](images/numpy_slice_ex.png)\n",
    "- on the above image find the 5 different slicings using only the array slicing notation"
   ]
  },
  {
   "cell_type": "code",
   "execution_count": 5,
   "id": "84c3149f-dc9d-40de-986e-6d01079c4ea6",
   "metadata": {},
   "outputs": [
    {
     "name": "stdout",
     "output_type": "stream",
     "text": [
      "cube:\n",
      " [[10 11 12 13 14]\n",
      " [15 16 17 18 19]\n",
      " [20 21 22 23 24]\n",
      " [25 26 27 28 29]]\n",
      "\n",
      "red: [11 12 13] \n",
      "teal: [[11 13]\n",
      " [16 18]\n",
      " [21 23]\n",
      " [26 28]] \n",
      "green: [12 17 22] \n",
      "blue: [14 24] \n",
      "yellow: 10\n"
     ]
    }
   ],
   "source": [
    "import numpy as np\n",
    "\n",
    "a = np.arange(10, 30).reshape(4, 5)\n",
    "\n",
    "print('cube:\\n',a)\n",
    "\n",
    "red = a[0, 1:4]\n",
    "teal = a[:,1::2]\n",
    "green = a[0:3,2]\n",
    "blue = a[0:-1:2,4]\n",
    "yellow = a[0,0]\n",
    "\n",
    "print('\\nred:',red,'\\nteal:',teal,'\\ngreen:',green,'\\nblue:',blue,'\\nyellow:',yellow)"
   ]
  },
  {
   "cell_type": "markdown",
   "id": "ff2b6f5a-0a20-4c05-836c-1ce74fd15b85",
   "metadata": {},
   "source": [
    "## 3D\n",
    "#### reshape can be done with multiple dimensions. Here is an example with 3d  \n",
    "`a = np.arange(0, 27).reshape((3, 3, 3))`  \n",
    "![](images/cube.png)"
   ]
  },
  {
   "cell_type": "markdown",
   "id": "de94d971-a50f-469a-a703-830e3caa1bef",
   "metadata": {},
   "source": [
    "## Class exercise 2: cube\n",
    "1. Slice out [12 13 14] from the above cube using only one slice. e.g: a[:,:,:]\n",
    "2. Slice out [3 12 21].\n",
    "3. Slice out all y-values where x is 2 and z is 0."
   ]
  },
  {
   "cell_type": "code",
   "execution_count": 14,
   "id": "1320dfb1-254e-4aec-a54f-4ae105e88967",
   "metadata": {},
   "outputs": [
    {
     "name": "stdout",
     "output_type": "stream",
     "text": [
      "[[[ 0  1  2]\n",
      "  [ 3  4  5]\n",
      "  [ 6  7  8]]\n",
      "\n",
      " [[ 9 10 11]\n",
      "  [12 13 14]\n",
      "  [15 16 17]]\n",
      "\n",
      " [[18 19 20]\n",
      "  [21 22 23]\n",
      "  [24 25 26]]]\n",
      "\n",
      "Ex1: [12 13 14] \n",
      "Ex2: [ 3 12 21] \n",
      "Ex3: [2 5 8]\n"
     ]
    }
   ],
   "source": [
    "import numpy as np\n",
    "\n",
    "a = np.arange(0, 27).reshape((3, 3, 3))\n",
    "\n",
    "print(a)\n",
    "\n",
    "Ex1 = a[1,1,:]\n",
    "Ex2 = a[:,1,0]\n",
    "Ex3 = a[0,:,2]\n",
    "\n",
    "print('\\nEx1:',Ex1,'\\nEx2:',Ex2,'\\nEx3:',Ex3)"
   ]
  }
 ],
 "metadata": {
  "kernelspec": {
   "display_name": "Python 3 (ipykernel)",
   "language": "python",
   "name": "python3"
  },
  "language_info": {
   "codemirror_mode": {
    "name": "ipython",
    "version": 3
   },
   "file_extension": ".py",
   "mimetype": "text/x-python",
   "name": "python",
   "nbconvert_exporter": "python",
   "pygments_lexer": "ipython3",
   "version": "3.10.5"
  }
 },
 "nbformat": 4,
 "nbformat_minor": 5
}
