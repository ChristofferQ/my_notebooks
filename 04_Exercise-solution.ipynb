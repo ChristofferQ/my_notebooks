{
 "cells": [
  {
   "cell_type": "markdown",
   "id": "ef6de6f6-55b7-4c92-b316-58429c84b479",
   "metadata": {
    "tags": []
   },
   "source": [
    "## Class exercise 1: table\n",
    "![](images/numpy_slice_ex.png)\n",
    "- on the above image find the 5 different slicings using only the array slicing notation"
   ]
  },
  {
   "cell_type": "code",
   "execution_count": 5,
   "id": "84c3149f-dc9d-40de-986e-6d01079c4ea6",
   "metadata": {},
   "outputs": [
    {
     "name": "stdout",
     "output_type": "stream",
     "text": [
      "cube:\n",
      " [[10 11 12 13 14]\n",
      " [15 16 17 18 19]\n",
      " [20 21 22 23 24]\n",
      " [25 26 27 28 29]]\n",
      "\n",
      "red: [11 12 13] \n",
      "teal: [[11 13]\n",
      " [16 18]\n",
      " [21 23]\n",
      " [26 28]] \n",
      "green: [12 17 22] \n",
      "blue: [14 24] \n",
      "yellow: 10\n"
     ]
    }
   ],
   "source": [
    "import numpy as np\n",
    "\n",
    "a = np.arange(10, 30).reshape(4, 5)\n",
    "\n",
    "print('cube:\\n',a)\n",
    "\n",
    "red = a[0, 1:4]\n",
    "teal = a[:,1::2]\n",
    "green = a[0:3,2]\n",
    "blue = a[0:-1:2,4]\n",
    "yellow = a[0,0]\n",
    "\n",
    "print('\\nred:',red,'\\nteal:',teal,'\\ngreen:',green,'\\nblue:',blue,'\\nyellow:',yellow)"
   ]
  },
  {
   "cell_type": "markdown",
   "id": "ff2b6f5a-0a20-4c05-836c-1ce74fd15b85",
   "metadata": {},
   "source": [
    "## 3D\n",
    "#### reshape can be done with multiple dimensions. Here is an example with 3d  \n",
    "`a = np.arange(0, 27).reshape((3, 3, 3))`  \n",
    "![](images/cube.png)"
   ]
  },
  {
   "cell_type": "markdown",
   "id": "de94d971-a50f-469a-a703-830e3caa1bef",
   "metadata": {},
   "source": [
    "## Class exercise 2: cube\n",
    "1. Slice out [12 13 14] from the above cube using only one slice. e.g: a[:,:,:]\n",
    "2. Slice out [3 12 21].\n",
    "3. Slice out all y-values where x is 2 and z is 0."
   ]
  },
  {
   "cell_type": "code",
   "execution_count": 14,
   "id": "1320dfb1-254e-4aec-a54f-4ae105e88967",
   "metadata": {},
   "outputs": [
    {
     "name": "stdout",
     "output_type": "stream",
     "text": [
      "[[[ 0  1  2]\n",
      "  [ 3  4  5]\n",
      "  [ 6  7  8]]\n",
      "\n",
      " [[ 9 10 11]\n",
      "  [12 13 14]\n",
      "  [15 16 17]]\n",
      "\n",
      " [[18 19 20]\n",
      "  [21 22 23]\n",
      "  [24 25 26]]]\n",
      "\n",
      "Ex1: [12 13 14] \n",
      "Ex2: [ 3 12 21] \n",
      "Ex3: [2 5 8]\n"
     ]
    }
   ],
   "source": [
    "import numpy as np\n",
    "\n",
    "a = np.arange(0, 27).reshape((3, 3, 3))\n",
    "\n",
    "print(a)\n",
    "\n",
    "Ex1 = a[1,1,:]\n",
    "Ex2 = a[:,1,0]\n",
    "Ex3 = a[0,:,2]\n",
    "\n",
    "print('\\nEx1:',Ex1,'\\nEx2:',Ex2,'\\nEx3:',Ex3)"
   ]
  },
  {
   "cell_type": "markdown",
   "id": "b5783ffd-fa6d-4999-ab8d-6f3456c518b0",
   "metadata": {},
   "source": [
    "## Exercise numpy and csv\n",
    "\n",
    "1. load the csv file: befkbhalderstatkode.csv into a numpy ndarray\n",
    "2. How many german children of 0 years were there in Copenhagen in 2015?\n",
    "3. create a function that can take any combination of the 4 parameters:AAR,BYDEL,ALDER,STATKODE and return population data\n",
    "4. create a new function like previous so that it can sum values for all ages if age is not provided to the function\n",
    "5. further add functionality to sum values if citizenship or area was not provided to function.\n",
    "6. create a new function that can also give average values for each year if year whas not provided.\n",
    "7. create a function, that given year and nationality can return which area had the most of these nationals by that year. Test it by finding out which area had the most Moroccan people in both 1992 and 2015\n",
    "8. Find the Area(s) where fewest foreingers lived in Copenhagen in 1992 and 2015 respectively\n",
    "9. Find out what age most French people have in 2015"
   ]
  },
  {
   "cell_type": "code",
   "execution_count": 9,
   "id": "4721c49d-6e85-494d-b515-6eef5efcde02",
   "metadata": {},
   "outputs": [
    {
     "name": "stdout",
     "output_type": "stream",
     "text": [
      "German children at age 0 in Denmark: 35\n"
     ]
    }
   ],
   "source": [
    "def find_german_children():\n",
    "    import numpy as np\n",
    "    filename = './data/befkbhalderstatkode.csv'\n",
    "\n",
    "    bef_stats_df = np.genfromtxt(filename, delimiter=',', dtype=np.uint, skip_header=1)\n",
    "    dd = bef_stats_df\n",
    "    \n",
    "    mask = (dd[:,0] == 2015) & (dd[:,2] == 0) & (dd[:,3] == 5180)\n",
    "    data = np.sum(dd[mask][:,4])\n",
    "    \n",
    "    print('German children at age 0 in Denmark:', data)\n",
    "    \n",
    "find_german_children()"
   ]
  },
  {
   "cell_type": "code",
   "execution_count": null,
   "id": "ee15b49a-e1e4-4abe-9820-875b5dfa3256",
   "metadata": {},
   "outputs": [],
   "source": [
    "def return_population_with_params():\n",
    "    import numpy as np\n",
    "    filename = './data/befkbhalderstatkode.csv'\n",
    "    \n",
    "    bef_stats_df = np.genfromtxt(filename, delimiter=',', dtype=np.uint, skip_header=1)\n",
    "    dd = bef_stats_df"
   ]
  }
 ],
 "metadata": {
  "kernelspec": {
   "display_name": "Python 3 (ipykernel)",
   "language": "python",
   "name": "python3"
  },
  "language_info": {
   "codemirror_mode": {
    "name": "ipython",
    "version": 3
   },
   "file_extension": ".py",
   "mimetype": "text/x-python",
   "name": "python",
   "nbconvert_exporter": "python",
   "pygments_lexer": "ipython3",
   "version": "3.10.5"
  }
 },
 "nbformat": 4,
 "nbformat_minor": 5
}
