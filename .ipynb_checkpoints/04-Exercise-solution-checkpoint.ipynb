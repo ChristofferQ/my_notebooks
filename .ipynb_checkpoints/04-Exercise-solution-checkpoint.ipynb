{
 "cells": [
  {
   "cell_type": "markdown",
   "id": "ef6de6f6-55b7-4c92-b316-58429c84b479",
   "metadata": {
    "tags": []
   },
   "source": [
    "## Class exercise 1: table\n",
    "![](images/numpy_slice_ex.png)\n",
    "- on the above image find the 5 different slicings using only the array slicing notation"
   ]
  },
  {
   "cell_type": "code",
   "execution_count": 5,
   "id": "84c3149f-dc9d-40de-986e-6d01079c4ea6",
   "metadata": {},
   "outputs": [
    {
     "name": "stdout",
     "output_type": "stream",
     "text": [
      "cube:\n",
      " [[10 11 12 13 14]\n",
      " [15 16 17 18 19]\n",
      " [20 21 22 23 24]\n",
      " [25 26 27 28 29]]\n",
      "\n",
      "red: [11 12 13] \n",
      "teal: [[11 13]\n",
      " [16 18]\n",
      " [21 23]\n",
      " [26 28]] \n",
      "green: [12 17 22] \n",
      "blue: [14 24] \n",
      "yellow: 10\n"
     ]
    }
   ],
   "source": [
    "import numpy as np\n",
    "\n",
    "a = np.arange(10, 30).reshape(4, 5)\n",
    "\n",
    "print('cube:\\n',a)\n",
    "\n",
    "red = a[0, 1:4]\n",
    "teal = a[:,1::2]\n",
    "green = a[0:3,2]\n",
    "blue = a[0:-1:2,4]\n",
    "yellow = a[0,0]\n",
    "\n",
    "print('\\nred:',red,'\\nteal:',teal,'\\ngreen:',green,'\\nblue:',blue,'\\nyellow:',yellow)"
   ]
  },
  {
   "cell_type": "markdown",
   "id": "ff2b6f5a-0a20-4c05-836c-1ce74fd15b85",
   "metadata": {},
   "source": [
    "## 3D\n",
    "#### reshape can be done with multiple dimensions. Here is an example with 3d  \n",
    "`a = np.arange(0, 27).reshape((3, 3, 3))`  \n",
    "![](images/cube.png)"
   ]
  },
  {
   "cell_type": "markdown",
   "id": "de94d971-a50f-469a-a703-830e3caa1bef",
   "metadata": {},
   "source": [
    "## Class exercise 2: cube\n",
    "1. Slice out [12 13 14] from the above cube using only one slice. e.g: a[:,:,:]\n",
    "2. Slice out [3 12 21].\n",
    "3. Slice out all y-values where x is 2 and z is 0."
   ]
  },
  {
   "cell_type": "code",
   "execution_count": 14,
   "id": "1320dfb1-254e-4aec-a54f-4ae105e88967",
   "metadata": {},
   "outputs": [
    {
     "name": "stdout",
     "output_type": "stream",
     "text": [
      "[[[ 0  1  2]\n",
      "  [ 3  4  5]\n",
      "  [ 6  7  8]]\n",
      "\n",
      " [[ 9 10 11]\n",
      "  [12 13 14]\n",
      "  [15 16 17]]\n",
      "\n",
      " [[18 19 20]\n",
      "  [21 22 23]\n",
      "  [24 25 26]]]\n",
      "\n",
      "Ex1: [12 13 14] \n",
      "Ex2: [ 3 12 21] \n",
      "Ex3: [2 5 8]\n"
     ]
    }
   ],
   "source": [
    "import numpy as np\n",
    "\n",
    "a = np.arange(0, 27).reshape((3, 3, 3))\n",
    "\n",
    "print(a)\n",
    "\n",
    "Ex1 = a[1,1,:]\n",
    "Ex2 = a[:,1,0]\n",
    "Ex3 = a[0,:,2]\n",
    "\n",
    "print('\\nEx1:',Ex1,'\\nEx2:',Ex2,'\\nEx3:',Ex3)"
   ]
  },
  {
   "cell_type": "markdown",
   "id": "b5783ffd-fa6d-4999-ab8d-6f3456c518b0",
   "metadata": {},
   "source": [
    "## Exercise numpy and csv\n",
    "\n",
    "1. load the csv file: befkbhalderstatkode.csv into a numpy ndarray\n",
    "2. How many german children of 0 years were there in Copenhagen in 2015?\n",
    "3. create a function that can take any combination of the 4 parameters:AAR,BYDEL,ALDER,STATKODE and return population data\n",
    "4. create a new function like previous so that it can sum values for all ages if age is not provided to the function\n",
    "5. further add functionality to sum values if citizenship or area was not provided to function.\n",
    "6. create a new function that can also give average values for each year if year whas not provided.\n",
    "7. create a function, that given year and nationality can return which area had the most of these nationals by that year. Test it by finding out which area had the most Moroccan people in both 1992 and 2015\n",
    "8. Find the Area(s) where fewest foreingers lived in Copenhagen in 1992 and 2015 respectively\n",
    "9. Find out what age most French people have in 2015"
   ]
  },
  {
   "cell_type": "code",
   "execution_count": 9,
   "id": "4721c49d-6e85-494d-b515-6eef5efcde02",
   "metadata": {},
   "outputs": [
    {
     "name": "stdout",
     "output_type": "stream",
     "text": [
      "German children at age 0 in Denmark: 35\n"
     ]
    }
   ],
   "source": [
    "def find_german_children():\n",
    "    import numpy as np\n",
    "    filename = './data/befkbhalderstatkode.csv'\n",
    "\n",
    "    bef_stats_df = np.genfromtxt(filename, delimiter=',', dtype=np.uint, skip_header=1)\n",
    "    dd = bef_stats_df\n",
    "    \n",
    "    mask = (dd[:,0] == 2015) & (dd[:,2] == 0) & (dd[:,3] == 5180)\n",
    "    data = np.sum(dd[mask][:,4])\n",
    "    \n",
    "    print('German children at age 0 in Denmark:', data)\n",
    "    \n",
    "find_german_children()"
   ]
  },
  {
   "cell_type": "code",
   "execution_count": null,
   "id": "ee15b49a-e1e4-4abe-9820-875b5dfa3256",
   "metadata": {},
   "outputs": [],
   "source": [
    "def return_population_with_params():\n",
    "    import numpy as np\n",
    "    filename = './data/befkbhalderstatkode.csv'\n",
    "    \n",
    "    bef_stats_df = np.genfromtxt(filename, delimiter=',', dtype=np.uint, skip_header=1)\n",
    "    dd = bef_stats_df"
   ]
  },
  {
   "cell_type": "markdown",
   "id": "242b460c-7690-4183-a917-55842443d1df",
   "metadata": {},
   "source": [
    "# Week 4 Exercise with Numpy\n",
    "\n",
    "Use only numpy (not pandas) in these exercises\n",
    "#### Exercise 1\n",
    "1. Open the file './data/befkbhalderstatkode.csv'\n",
    "2. Turn the csv file into a numpy ndarray with `np.genfromtxt(filename, delimiter=',', dtype=np.uint, skip_header=1)`\n",
    "3. Using this data:\n",
    "```python\n",
    "neighb = {1: 'Indre By', 2: 'Østerbro', 3: 'Nørrebro', 4: 'Vesterbro/Kgs. Enghave', \n",
    "          5: 'Valby', 6: 'Vanløse', 7: 'Brønshøj-Husum', 8: 'Bispebjerg', 9: 'Amager Øst', \n",
    "          10: 'Amager Vest', 99: 'Udenfor'}\n",
    "```\n",
    "Find out how many people lived in each of the 11 areas in 2015\n",
    "\n",
    "4. Make a bar plot to show the size of each city area from the smallest to the largest in 2015\n",
    "\n",
    "5. Create a boolean mask to find out how many people above 65 years lived in Copenhagen in 2015\n",
    "\n",
    "6. How many of those were from the other nordic countries (not dk). Hint: see notebook: \"04 Numpy\"\n",
    "\n",
    "7. Make a line plot showing the changes of number of people in vesterbro and østerbro from 1992 to 2015\n",
    "\n",
    "#### Exercise 2  A bit harder (Extra only if you have the time)\n",
    "\n",
    "1. From \"Danmarks Statistik\" download demographic data here:\n",
    "https://api.statbank.dk/v1/data/FOLK1A/CSV?valuePresentation=Code&delimiter=Semicolon&OMR%C3%85DE=000%2C084%2C147%2C400%2C085%2C083%2C082%2C081%2C851%2C461%2C561%2C751&K%C3%98N=1%2C2&ALDER=0%2C1%2C2%2C3%2C4%2C5%2C6%2C7%2C8%2C9%2C10%2C11%2C12%2C13%2C14%2C15%2C16%2C17%2C18%2C19%2C20%2C21%2C22%2C23%2C24%2C25%2C26%2C27%2C28%2C29%2C30%2C31%2C32%2C33%2C34%2C35%2C36%2C37%2C3%2C39%2C40%2C41%2C42%2C43%2C44%2C45%2C46%2C47%2C48%2C49%2C50%2C51%2C52%2C53%2C54%2C55%2C56%2C57%2C58%2C59%2C60%2C61%2C62%2C63%2C64%2C65%2C66%2C67%2C68%2C69%2C70%2C71%2C72%2C73%2C74%2C75%2C76%2C77%2C78%2C79%2C80%2C81%2C82%2C83%2C84%2C85%2C86%2C87%2C88%2C89%2C90%2C91%2C92%2C93%2C94%2C95%2C96%2C97%2C98%2C99%2C100&Tid=2008K1%2C2009K1%2C2010K1%2C2011K1%2C2012K1%2C2013K1%2C2014K1%2C2015K1%2C2016K1%2C2017K1%2C2018K1%2C2019K1%2C2020K1\n",
    "\n",
    "\n",
    "2. clean up the data so it only contains numbers. (If you find this hard to do then Pandas can help (we will cover it next week)\n",
    "```python\n",
    "import pandas as pd \n",
    "url = 'url from above here'\n",
    "df = pd.read_csv(url,sep=';')\n",
    "df['TID'] = df['TID'].map(lambda x:x[:-2]) #cut the last 2 characters\n",
    "df.to_csv('demografic_cleaned.csv',header=False, index=False)\n",
    "```\n",
    "Now you have csv data with columns: OMRÅDE;KØN;ALDER;TID;INDHOLD\n",
    "3. Now load your demographic data with numpy. (Hint: use np.loadtxt() with dtype and delimiter).\n",
    "4. Use file: DKstat_bykoder.csv to get cities from the city codes\n",
    "5. Now find out which city in 2020 has the highest percentage of men (gender code 1),(Hint: create a function to return summed up data by city code ala: def summed_by_city(city_code): returning pct_male \n",
    "6. Create a line chart with 5 lines showing population changes in the 5 largest cities from 2008 to 2020\n"
   ]
  },
  {
   "cell_type": "code",
   "execution_count": 5,
   "id": "c52e8ae0-9d9c-44f3-99a7-87fac6647099",
   "metadata": {},
   "outputs": [
    {
     "name": "stdout",
     "output_type": "stream",
     "text": [
      "Find out how many people lived in each of the 11 areas in 2015\n",
      "\n",
      "Indre By:  29102\n",
      "Østerbro:  75113\n",
      "Nørrebro:  78802\n",
      "Vesterbro/Kgs_Enghave:  61623\n",
      "Valby:  51727\n",
      "Vanløse:  39537\n",
      "Brønshøj-Husum:  43908\n",
      "Bispebjerg:  53604\n",
      "Amager_øst:  55205\n",
      "Amager_vest:  64967\n",
      "Udenfor:  3872\n"
     ]
    }
   ],
   "source": [
    "def lived_in_each_area():\n",
    "    import numpy as np\n",
    "    filename = './data/befkbhalderstatkode.csv'\n",
    "    \n",
    "    bef_stats_df = np.genfromtxt(filename, delimiter=',', dtype=np.uint, skip_header=1)\n",
    "    dd = bef_stats_df\n",
    "    \n",
    "    neighb = {1: 'Indre By', 2: 'Østerbro', 3: 'Nørrebro', 4: 'Vesterbro/Kgs. Enghave', \n",
    "          5: 'Valby', 6: 'Vanløse', 7: 'Brønshøj-Husum', 8: 'Bispebjerg', 9: 'Amager Øst', \n",
    "          10: 'Amager Vest', 99: 'Udenfor'}\n",
    "    \n",
    "    print('Find out how many people lived in each of the 11 areas in 2015:\\n')\n",
    "    \n",
    "    indreby_mask = (dd[:,0] == 2015) & (dd[:,1] == 1)\n",
    "    print('Indre By: ', np.sum(dd[indreby_mask][:4]))\n",
    "    \n",
    "    østerbro_mask = (dd[:,0] == 2015) & (dd[:,1] == 2)\n",
    "    print('Østerbro: ',np.sum(dd[østerbro_mask][:,4]))\n",
    "\n",
    "    nørrebro_mask = (dd[:,0] == 2015) & (dd[:,1] == 3)\n",
    "    print('Nørrebro: ',np.sum(dd[nørrebro_mask][:,4]))\n",
    "\n",
    "    vesterbro_kgs_enghave_mask = (dd[:,0] == 2015) & (dd[:,1] == 4)\n",
    "    print('Vesterbro/Kgs_Enghave: ',np.sum(dd[vesterbro_kgs_enghave_mask][:,4]))\n",
    "\n",
    "    valby_mask = (dd[:,0] == 2015) & (dd[:,1] == 5)\n",
    "    print('Valby: ',np.sum(dd[valby_mask][:,4]))\n",
    "\n",
    "    vanløse_mask = (dd[:,0] == 2015) & (dd[:,1] == 6)\n",
    "    print('Vanløse: ',np.sum(dd[vanløse_mask][:,4]))\n",
    "\n",
    "    brønshøj_husum_mask = (dd[:,0] == 2015) & (dd[:,1] == 7)\n",
    "    print('Brønshøj-Husum: ',np.sum(dd[brønshøj_husum_mask][:,4]))\n",
    "\n",
    "    bispebjerg_mask = (dd[:,0] == 2015) & (dd[:,1] == 8)\n",
    "    print('Bispebjerg: ',np.sum(dd[bispebjerg_mask][:,4]))\n",
    "\n",
    "    amagerøst_mask = (dd[:,0] == 2015) & (dd[:,1] == 9)\n",
    "    print('Amager_øst: ',np.sum(dd[amagerøst_mask][:,4]))\n",
    "\n",
    "    amager_vest_mask = (dd[:,0] == 2015) & (dd[:,1] == 10)\n",
    "    print('Amager_vest: ',np.sum(dd[amager_vest_mask][:,4]))\n",
    "\n",
    "    udenfor_mask = (dd[:,0] == 2015) & (dd[:,1] == 99)\n",
    "    print('Udenfor: ',np.sum(dd[udenfor_mask][:,4]))\n",
    "    \n",
    "lived_in_each_area()"
   ]
  },
  {
   "cell_type": "markdown",
   "id": "b3ab124d-efba-40af-9e3f-8360d31df4c4",
   "metadata": {},
   "source": [
    "4. Make a bar plot to show the size of each city area from the smallest to the largest in 2015"
   ]
  },
  {
   "cell_type": "code",
   "execution_count": null,
   "id": "31f76b7b-fe35-421b-b062-93315d63a368",
   "metadata": {},
   "outputs": [],
   "source": []
  },
  {
   "cell_type": "markdown",
   "id": "b6a4c6f7-a366-4561-ae1f-078060a5f61e",
   "metadata": {},
   "source": [
    "5. Create a boolean mask to find out how many people above 65 years lived in Copenhagen in 2015"
   ]
  },
  {
   "cell_type": "code",
   "execution_count": 11,
   "id": "c7b2cda4-7bfe-44dd-bcf8-be397f300a31",
   "metadata": {},
   "outputs": [
    {
     "name": "stdout",
     "output_type": "stream",
     "text": [
      "Alder over 65: 327364496\n"
     ]
    }
   ],
   "source": [
    "def age_over_65():\n",
    "    import numpy as np\n",
    "    filename = './data/befkbhalderstatkode.csv'\n",
    "\n",
    "    bef_stats_df = np.genfromtxt(filename, delimiter=',', dtype=np.uint, skip_header=1)\n",
    "    dd = bef_stats_df\n",
    "    \n",
    "    age_over_65_mask = (dd[:,2] > 65)\n",
    "    print('Alder over 65:',np.sum(dd[age_over_65_mask]))\n",
    "\n",
    "\n",
    "age_over_65()"
   ]
  },
  {
   "cell_type": "code",
   "execution_count": 1,
   "id": "c21384af-f098-4f32-a5dc-b641ce2debbb",
   "metadata": {},
   "outputs": [
    {
     "data": {
      "image/png": "[encoded data removed]",
      "text/plain": [
       "<Figure size 640x480 with 1 Axes>"
      ]
     },
     "metadata": {},
     "output_type": "display_data"
    }
   ],
   "source": [
    "# importing the modules\n",
    "import numpy as np\n",
    "import matplotlib.pyplot as plt\n",
    "\n",
    "# data to be plotted\n",
    "x = np.arange(1, 11)\n",
    "y = x * x\n",
    "\n",
    "# plotting\n",
    "plt.title(\"Line graph\")\n",
    "plt.xlabel(\"X axis\")\n",
    "plt.ylabel(\"Y axis\")\n",
    "plt.plot(x, y, color =\"red\")\n",
    "plt.show()\n"
   ]
  },
  {
   "cell_type": "code",
   "execution_count": 39,
   "id": "4ce79a4e-92be-4b52-a401-e3a81763b56d",
   "metadata": {},
   "outputs": [
    {
     "data": {
      "image/png": "[encoded data removed]",
      "text/plain": [
       "<Figure size 640x480 with 1 Axes>"
      ]
     },
     "metadata": {},
     "output_type": "display_data"
    }
   ],
   "source": [
    "def line_plot_ost():\n",
    "    import numpy as np\n",
    "    import matplotlib.pyplot as plt\n",
    "    \n",
    "    filename = './data/befkbhalderstatkode.csv'\n",
    "    \n",
    "    bef_stats_df = np.genfromtxt(filename, delimiter=',', dtype=np.uint, skip_header=1)\n",
    "    dd = bef_stats_df\n",
    "    \n",
    "    neighb = {1: 'Indre By', 2: 'Østerbro', 3: 'Nørrebro', 4: 'Vesterbro/Kgs. Enghave', \n",
    "          5: 'Valby', 6: 'Vanløse', 7: 'Brønshøj-Husum', 8: 'Bispebjerg', 9: 'Amager Øst', \n",
    "          10: 'Amager Vest', 99: 'Udenfor'}\n",
    "    \n",
    "    # number_of_persons_mask = (dd[:,1] == 2) & (dd[:,3] == 5100) (dd[:,4])\n",
    "    \n",
    "    #x = (dd[:,0])\n",
    "    #y = np.sum(dd[number_of_persons_mask][:,4])\n",
    "    \n",
    "    mask_ost = (dd[:,1] == 2) & (dd[:,3] == 5100)\n",
    "    \n",
    "    x = (dd[:,0])\n",
    "    y = (dd[:,0]) & (np.sum(dd[mask_ost][:,4]))\n",
    "         \n",
    "    plt.title(\"Mennesker i Østerbro pr. år\")\n",
    "    plt.xlabel(\"Årstal\")\n",
    "    plt.ylabel(\"Antal Mennesker\")\n",
    "    plt.plot(x,y,color = \"red\")\n",
    "    plt.show\n",
    "    \n",
    "    \n",
    "line_plot_ost()"
   ]
  }
 ],
 "metadata": {
  "kernelspec": {
   "display_name": "Python 3 (ipykernel)",
   "language": "python",
   "name": "python3"
  },
  "language_info": {
   "codemirror_mode": {
    "name": "ipython",
    "version": 3
   },
   "file_extension": ".py",
   "mimetype": "text/x-python",
   "name": "python",
   "nbconvert_exporter": "python",
   "pygments_lexer": "ipython3",
   "version": "3.10.5"
  }
 },
 "nbformat": 4,
 "nbformat_minor": 5
}
