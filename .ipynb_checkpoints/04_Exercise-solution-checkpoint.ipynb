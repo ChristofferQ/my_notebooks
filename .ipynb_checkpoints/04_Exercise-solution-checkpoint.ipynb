{
 "cells": [
  {
   "cell_type": "markdown",
   "id": "ef6de6f6-55b7-4c92-b316-58429c84b479",
   "metadata": {
    "tags": []
   },
   "source": [
    "## Class exercise 1: table\n",
    "![](images/numpy_slice_ex.png)\n",
    "- on the above image find the 5 different slicings using only the array slicing notation"
   ]
  },
  {
   "cell_type": "code",
   "execution_count": 5,
   "id": "84c3149f-dc9d-40de-986e-6d01079c4ea6",
   "metadata": {},
   "outputs": [
    {
     "name": "stdout",
     "output_type": "stream",
     "text": [
      "cube:\n",
      " [[10 11 12 13 14]\n",
      " [15 16 17 18 19]\n",
      " [20 21 22 23 24]\n",
      " [25 26 27 28 29]]\n",
      "\n",
      "red: [11 12 13] \n",
      "teal: [[11 13]\n",
      " [16 18]\n",
      " [21 23]\n",
      " [26 28]] \n",
      "green: [12 17 22] \n",
      "blue: [14 24] \n",
      "yellow: 10\n"
     ]
    }
   ],
   "source": [
    "import numpy as np\n",
    "\n",
    "a = np.arange(10, 30).reshape(4, 5)\n",
    "\n",
    "print('cube:\\n',a)\n",
    "\n",
    "red = a[0, 1:4]\n",
    "teal = a[:,1::2]\n",
    "green = a[0:3,2]\n",
    "blue = a[0:-1:2,4]\n",
    "yellow = a[0,0]\n",
    "\n",
    "print('\\nred:',red,'\\nteal:',teal,'\\ngreen:',green,'\\nblue:',blue,'\\nyellow:',yellow)"
   ]
  }
 ],
 "metadata": {
  "kernelspec": {
   "display_name": "Python 3 (ipykernel)",
   "language": "python",
   "name": "python3"
  },
  "language_info": {
   "codemirror_mode": {
    "name": "ipython",
    "version": 3
   },
   "file_extension": ".py",
   "mimetype": "text/x-python",
   "name": "python",
   "nbconvert_exporter": "python",
   "pygments_lexer": "ipython3",
   "version": "3.10.5"
  }
 },
 "nbformat": 4,
 "nbformat_minor": 5
}
