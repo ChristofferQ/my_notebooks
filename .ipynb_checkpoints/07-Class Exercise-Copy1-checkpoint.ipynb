{
 "cells": [
  {
   "cell_type": "markdown",
   "id": "35062485",
   "metadata": {},
   "source": [
    "# Week 7: Web scraping, BS4, Selenium and Regexp\n",
    "### Part 1\n",
    "##### 30 min\n",
    "1. Make a request to: `https://en.wikipedia.org/wiki/Alan_Turing` and print out the responses .text property\n",
    "2. Find and print the title of the response page\n",
    "3. Find and print content of the first p tag that has content.\n",
    "4. Find and print all content from the TOC\n",
    "##### 20 min\n",
    "5. Create a dictionary from the TOC links like: {'first link':'#this_is_the_first_link}\n",
    "### Pause\n",
    "##### 40 min\n",
    "6. Create a function that can take a word and look for it in the dictionary keys and then return the content from the first link that matches. Return the next p elements until next headline (h3 element).\n",
    "7. Make it into a cli program.\n",
    "\n",
    "### Pause\n",
    "\n",
    "### Part 2\n",
    "##### 40 min\n",
    "1. Using regex find out how many times 'Turing' is used in the article\n",
    "9. Regex: Find all the sentences that has a year in them (sentense defined by: starting at \\n or dot or comma and ending at dot or comma.\n",
    "\n",
    "### Part 3\n",
    "##### 40 min\n",
    "1. Use selenium to go to amazon.com and search for `Pet Shower Cap - Waterproof Reusable Bath Ear Covers`\n",
    "2. Print how many products were found\n",
    "3. Find the cheapest and the most expensive product from the list\n"
   ]
  },
  {
   "cell_type": "markdown",
   "id": "b7d676e9-61fd-46ae-a6bc-cab3c2f1c495",
   "metadata": {},
   "source": [
    "1. Make a request to: `https://en.wikipedia.org/wiki/Alan_Turing` and print out the responses .text property"
   ]
  },
  {
   "cell_type": "code",
   "execution_count": 40,
   "id": "b61b77b6-6c0e-42c6-bb4a-3986156a65cb",
   "metadata": {},
   "outputs": [
    {
     "name": "stdout",
     "output_type": "stream",
     "text": [
      "<!DOCTYPE html>\n",
      "<html class=\"client-nojs\" dir=\"ltr\" lang=\"en\">\n",
      " <head>\n",
      "  <meta charset=\"utf-8\"/>\n",
      "  <title>\n",
      "   Alan Turing - Wikipedia\n",
      "  </title>\n",
      "  <script>\n",
      "   document.documentElement.className=\"client-js\";RLCONF={\"wgBreakFrames\":false,\"wgSeparatorTransformTable\":[\"\",\"\"],\"wgDigitTransformTable\":[\"\",\"\"],\"wgDefaultDateFormat\":\"dmy\",\"wgMonthNames\":[\"\",\"January\",\"February\",\"March\",\"April\",\"May\",\"June\",\"July\",\"August\",\"September\",\"October\",\"November\",\"December\"],\"wgRequestId\":\"d3cf91a6-eb88-4590-801b-2000b733f967\",\"wgCSPNonce\":false,\"wgCanonicalNamespace\":\"\",\"wgCanonicalSpecialPageName\":false,\"wgNamespaceNumber\":0,\"wgPageName\":\"Alan_Turing\",\"wgTitle\":\"Alan Turing\",\"wgCurRevisionId\":1112321889,\"wgRevisionId\":1112321889,\"wgArticleId\":1208,\"wgIsArticle\":true,\"wgIsRedirect\":false,\"wgAction\":\"view\",\"wgUserName\":null,\"wgUserGroups\":[\"*\"],\"wgCategories\":[\"Webarchive template wayback links\",\"CS1: long volume value\",\"Articles with short description\",\"Short description matches Wikidata\",\"Wikipedia indefinitely semi-protected pages\",\"Use British English from June 2020\",\"Use dmy dates from November 2021\",\"Pages using infobox person with multiple partners\",\n",
      "\"Biography with signature\",\"Articles with hCards\",\"Wikipedia references cleanup from April 2022\",\"All articles needing references cleanup\",\"Articles covered by WikiProject Wikify from April 2022\",\"All articles covered by WikiProject Wikify\",\"Wikipedia articles incorporating a citation from the ODNB\",\"Pages using cite ODNB with id parameter\"\n"
     ]
    }
   ],
   "source": [
    "import bs4\n",
    "import requests\n",
    "\n",
    "\n",
    "r = requests.get('https://en.wikipedia.org/wiki/Alan_Turing')\n",
    "r.raise_for_status()\n",
    "soup = bs4.BeautifulSoup(r.text, 'html.parser')\n",
    "\n",
    "print(soup.prettify()[:1500])\n"
   ]
  },
  {
   "cell_type": "markdown",
   "id": "40ab2012-8955-4bbf-8dd3-47f4096272a5",
   "metadata": {},
   "source": [
    "2. Find and print the title of the response page"
   ]
  },
  {
   "cell_type": "code",
   "execution_count": 41,
   "id": "cf8a3039-4e3c-44f5-b594-ab3406d3e695",
   "metadata": {},
   "outputs": [
    {
     "name": "stdout",
     "output_type": "stream",
     "text": [
      "\n",
      " Title:  Alan Turing - Wikipedia\n"
     ]
    }
   ],
   "source": [
    "elems = soup.select('title')\n",
    "\n",
    "print('\\n Title: ',elems[0].getText()[:40])"
   ]
  },
  {
   "cell_type": "markdown",
   "id": "1a91a767-4ca7-4fee-bbe5-a530b493532e",
   "metadata": {},
   "source": [
    "3. Find and print content of the first p tag that has content."
   ]
  },
  {
   "cell_type": "code",
   "execution_count": 42,
   "id": "cfa48125-b9c1-4cfc-b16c-dcd87577f2f1",
   "metadata": {
    "tags": []
   },
   "outputs": [
    {
     "name": "stdout",
     "output_type": "stream",
     "text": [
      "<p><b>Alan Mathison Turing</b> <span class=\"noexcerpt nowraplinks\" style=\"font-size:85%; font-weight:normal;\"><a class=\"mw-redirect\" href=\"/wiki/Officer_of_the_Order_of_the_British_Empire\" title=\"Officer of the Order of the British Empire\">OBE</a> <a href=\"/wiki/Fellow_of_the_Royal_Society\" title=\"Fellow of the Royal Society\">FRS</a></span> (<span class=\"rt-commentedText nowrap\"><span class=\"IPA nopopups noexcerpt\" lang=\"en-fonipa\"><a href=\"/wiki/Help:IPA/English\" title=\"Help:IPA/English\">/<span style=\"border-bottom:1px dotted\"><span title=\"/ˈ/: primary stress follows\">ˈ</span><span title=\"/tj/: 't' in 'tune'\">tj</span><span title=\"/ʊər/: 'our' in 'tour'\">ʊər</span><span title=\"/ɪ/: 'i' in 'kit'\">ɪ</span><span title=\"/ŋ/: 'ng' in 'sing'\">ŋ</span></span>/</a></span></span>; 23 June 1912 – 7 June 1954) was an English <a href=\"/wiki/Mathematician\" title=\"Mathematician\">mathematician</a>, <a href=\"/wiki/Computer_scientist\" title=\"Computer scientist\">computer scientist</a>, <a href=\"/wiki/Logic\" title=\"Logic\">logician</a>, <a href=\"/wiki/Cryptanalysis\" title=\"Cryptanalysis\">cryptanalyst</a>, <a href=\"/wiki/Philosopher\" title=\"Philosopher\">philosopher</a>, and <a href=\"/wiki/Mathematical_and_theoretical_biology\" title=\"Mathematical and theoretical biology\">theoretical biologist</a>.<sup class=\"reference\" id=\"cite_ref-7\"><a href=\"#cite_note-7\">[6]</a></sup> Turing was highly influential in the development of <a href=\"/wiki/Theoretical_computer_science\" title=\"Theoretical computer science\">theoretical computer science</a>, providing a formalisation of the concepts of <a href=\"/wiki/Algorithm\" title=\"Algorithm\">algorithm</a> and <a href=\"/wiki/Computation\" title=\"Computation\">computation</a> with the <a href=\"/wiki/Turing_machine\" title=\"Turing machine\">Turing machine</a>, which can be considered a model of a <a class=\"mw-redirect\" href=\"/wiki/General-purpose_computer\" title=\"General-purpose computer\">general-purpose computer</a>.<sup class=\"reference\" id=\"cite_ref-frs_8-0\"><a href=\"#cite_note-frs-8\">[7]</a></sup><sup class=\"reference\" id=\"cite_ref-AFP_9-0\"><a href=\"#cite_note-AFP-9\">[8]</a></sup><sup class=\"reference\" id=\"cite_ref-10\"><a href=\"#cite_note-10\">[9]</a></sup> He is widely considered to be the father of theoretical computer science and <a href=\"/wiki/Artificial_intelligence\" title=\"Artificial intelligence\">artificial intelligence</a>.<sup class=\"reference\" id=\"cite_ref-11\"><a href=\"#cite_note-11\">[10]</a></sup>\n",
      "</p>\n"
     ]
    }
   ],
   "source": [
    "elements = soup.select('div > p')\n",
    "\n",
    "print(elements[1])"
   ]
  },
  {
   "cell_type": "markdown",
   "id": "c25237cb-1529-4c9e-88a2-571ebdb76a77",
   "metadata": {},
   "source": [
    "4. Find and print all content from the TOC"
   ]
  },
  {
   "cell_type": "code",
   "execution_count": 43,
   "id": "8a50d617-8a25-4618-995b-9827b8d391c6",
   "metadata": {
    "tags": []
   },
   "outputs": [
    {
     "name": "stdout",
     "output_type": "stream",
     "text": [
      "<div aria-labelledby=\"mw-toc-heading\" class=\"toc\" id=\"toc\" role=\"navigation\"><input class=\"toctogglecheckbox\" id=\"toctogglecheckbox\" role=\"button\" style=\"display:none\" type=\"checkbox\"/><div class=\"toctitle\" dir=\"ltr\" lang=\"en\"><h2 id=\"mw-toc-heading\">Contents</h2><span class=\"toctogglespan\"><label class=\"toctogglelabel\" for=\"toctogglecheckbox\"></label></span></div>\n",
      "<ul>\n",
      "<li class=\"toclevel-1 tocsection-1\"><a href=\"#Early_life_and_education\"><span class=\"tocnumber\">1</span> <span class=\"toctext\">Early life and education</span></a>\n",
      "<ul>\n",
      "<li class=\"toclevel-2 tocsection-2\"><a href=\"#Family\"><span class=\"tocnumber\">1.1</span> <span class=\"toctext\">Family</span></a></li>\n",
      "<li class=\"toclevel-2 tocsection-3\"><a href=\"#School\"><span class=\"tocnumber\">1.2</span> <span class=\"toctext\">School</span></a></li>\n",
      "<li class=\"toclevel-2 tocsection-4\"><a href=\"#Christopher_Morcom\"><span class=\"tocnumber\">1.3</span> <span class=\"toctext\">Christopher Morcom</span></a></li>\n",
      "<li class=\"toclevel-2 tocsection-5\"><a href=\"#University_and_work_on_computability\"><span class=\"tocnumber\">1.4</span> <span class=\"toctext\">University and work on computability</span></a></li>\n",
      "</ul>\n",
      "</li>\n",
      "<li class=\"toclevel-1 tocsection-6\"><a href=\"#Career_and_research\"><span class=\"tocnumber\">2</span> <span class=\"toctext\">Career and research</span></a>\n",
      "<ul>\n",
      "<li class=\"toclevel-2 tocsection-7\"><a href=\"#Cryptanalysis\"><span class=\"tocnumber\">2.1</span> <span class=\"toctext\">Cryptanalysis</span></a></li>\n",
      "<li class=\"toclevel-2 tocsection-8\"><a href=\"#Bombe\"><span class=\"tocnumber\">2.2</span> <span class=\"toctext\">Bombe</span></a></li>\n",
      "<li class=\"toclevel-2 tocsection-9\"><a href=\"#Hut_8_and_the_naval_Enigma\"><span class=\"tocnumber\">2.3</span> <span class=\"toctext\">Hut 8 and the naval Enigma</span></a></li>\n",
      "<li class=\"toclevel-2 tocsection-10\"><a href=\"#Turingery\"><span class=\"tocnumber\">2.4</span> <span class=\"toctext\">Turingery</span></a></li>\n",
      "<li class=\"toclevel-2 tocsection-11\"><a href=\"#Delilah\"><span class=\"tocnumber\">2.5</span> <span class=\"toctext\">Delilah</span></a></li>\n",
      "<li class=\"toclevel-2 tocsection-12\"><a href=\"#Early_computers_and_the_Turing_test\"><span class=\"tocnumber\">2.6</span> <span class=\"toctext\">Early computers and the Turing test</span></a></li>\n",
      "<li class=\"toclevel-2 tocsection-13\"><a href=\"#Pattern_formation_and_mathematical_biology\"><span class=\"tocnumber\">2.7</span> <span class=\"toctext\">Pattern formation and mathematical biology</span></a></li>\n",
      "</ul>\n",
      "</li>\n",
      "<li class=\"toclevel-1 tocsection-14\"><a href=\"#Personal_life\"><span class=\"tocnumber\">3</span> <span class=\"toctext\">Personal life</span></a>\n",
      "<ul>\n",
      "<li class=\"toclevel-2 tocsection-15\"><a href=\"#Engagement\"><span class=\"tocnumber\">3.1</span> <span class=\"toctext\">Engagement</span></a></li>\n",
      "<li class=\"toclevel-2 tocsection-16\"><a href=\"#Homosexuality_and_indecency_conviction\"><span class=\"tocnumber\">3.2</span> <span class=\"toctext\">Homosexuality and indecency conviction</span></a></li>\n",
      "<li class=\"toclevel-2 tocsection-17\"><a href=\"#Treasure\"><span class=\"tocnumber\">3.3</span> <span class=\"toctext\">Treasure</span></a></li>\n",
      "<li class=\"toclevel-2 tocsection-18\"><a href=\"#Death\"><span class=\"tocnumber\">3.4</span> <span class=\"toctext\">Death</span></a></li>\n",
      "<li class=\"toclevel-2 tocsection-19\"><a href=\"#Government_apology_and_pardon\"><span class=\"tocnumber\">3.5</span> <span class=\"toctext\">Government apology and pardon</span></a></li>\n",
      "</ul>\n",
      "</li>\n",
      "<li class=\"toclevel-1 tocsection-20\"><a href=\"#Legacy\"><span class=\"tocnumber\">4</span> <span class=\"toctext\">Legacy</span></a>\n",
      "<ul>\n",
      "<li class=\"toclevel-2 tocsection-21\"><a href=\"#Awards,_honours,_and_tributes\"><span class=\"tocnumber\">4.1</span> <span class=\"toctext\">Awards, honours, and tributes</span></a></li>\n",
      "<li class=\"toclevel-2 tocsection-22\"><a href=\"#Centenary_celebrations\"><span class=\"tocnumber\">4.2</span> <span class=\"toctext\">Centenary celebrations</span></a></li>\n",
      "</ul>\n",
      "</li>\n",
      "<li class=\"toclevel-1 tocsection-23\"><a href=\"#Notes_and_references\"><span class=\"tocnumber\">5</span> <span class=\"toctext\">Notes and references</span></a>\n",
      "<ul>\n",
      "<li class=\"toclevel-2 tocsection-24\"><a href=\"#Notes\"><span class=\"tocnumber\">5.1</span> <span class=\"toctext\">Notes</span></a></li>\n",
      "<li class=\"toclevel-2 tocsection-25\"><a href=\"#References\"><span class=\"tocnumber\">5.2</span> <span class=\"toctext\">References</span></a></li>\n",
      "<li class=\"toclevel-2 tocsection-26\"><a href=\"#Sources\"><span class=\"tocnumber\">5.3</span> <span class=\"toctext\">Sources</span></a></li>\n",
      "</ul>\n",
      "</li>\n",
      "<li class=\"toclevel-1 tocsection-27\"><a href=\"#Further_reading\"><span class=\"tocnumber\">6</span> <span class=\"toctext\">Further reading</span></a>\n",
      "<ul>\n",
      "<li class=\"toclevel-2 tocsection-28\"><a href=\"#Articles\"><span class=\"tocnumber\">6.1</span> <span class=\"toctext\">Articles</span></a></li>\n",
      "<li class=\"toclevel-2 tocsection-29\"><a href=\"#Books\"><span class=\"tocnumber\">6.2</span> <span class=\"toctext\">Books</span></a></li>\n",
      "</ul>\n",
      "</li>\n",
      "<li class=\"toclevel-1 tocsection-30\"><a href=\"#External_links\"><span class=\"tocnumber\">7</span> <span class=\"toctext\">External links</span></a></li>\n",
      "</ul>\n",
      "</div>\n"
     ]
    }
   ],
   "source": [
    "events = soup.select('div[id=toc]')\n",
    "for e in events:\n",
    "    #print(e.getText())\n",
    "    print(e)"
   ]
  },
  {
   "cell_type": "markdown",
   "id": "1d8517af-4eac-44e2-9534-28b431ec7f6d",
   "metadata": {},
   "source": [
    "5. Create a dictionary from the TOC links like: {'first link':'#this_is_the_first_link}"
   ]
  },
  {
   "cell_type": "code",
   "execution_count": 60,
   "id": "fb163b3e-ae82-4cfd-bdee-d5f5112f717e",
   "metadata": {},
   "outputs": [
    {
     "data": {
      "text/plain": [
       "{'1.1 Family': 'https://en.wikipedia.org/wiki/Alan_Turing#Family',\n",
       " '1.2 School': 'https://en.wikipedia.org/wiki/Alan_Turing#School',\n",
       " '1.3 Christopher Morcom': 'https://en.wikipedia.org/wiki/Alan_Turing#Christopher_Morcom',\n",
       " '1.4 University and work on computability': 'https://en.wikipedia.org/wiki/Alan_Turing#University_and_work_on_computability',\n",
       " '2.1 Cryptanalysis': 'https://en.wikipedia.org/wiki/Alan_Turing#Cryptanalysis',\n",
       " '2.2 Bombe': 'https://en.wikipedia.org/wiki/Alan_Turing#Bombe',\n",
       " '2.3 Hut 8 and the naval Enigma': 'https://en.wikipedia.org/wiki/Alan_Turing#Hut_8_and_the_naval_Enigma',\n",
       " '2.4 Turingery': 'https://en.wikipedia.org/wiki/Alan_Turing#Turingery',\n",
       " '2.5 Delilah': 'https://en.wikipedia.org/wiki/Alan_Turing#Delilah',\n",
       " '2.6 Early computers and the Turing test': 'https://en.wikipedia.org/wiki/Alan_Turing#Early_computers_and_the_Turing_test',\n",
       " '2.7 Pattern formation and mathematical biology': 'https://en.wikipedia.org/wiki/Alan_Turing#Pattern_formation_and_mathematical_biology',\n",
       " '3.1 Engagement': 'https://en.wikipedia.org/wiki/Alan_Turing#Engagement',\n",
       " '3.2 Homosexuality and indecency conviction': 'https://en.wikipedia.org/wiki/Alan_Turing#Homosexuality_and_indecency_conviction',\n",
       " '3.3 Treasure': 'https://en.wikipedia.org/wiki/Alan_Turing#Treasure',\n",
       " '3.4 Death': 'https://en.wikipedia.org/wiki/Alan_Turing#Death',\n",
       " '3.5 Government apology and pardon': 'https://en.wikipedia.org/wiki/Alan_Turing#Government_apology_and_pardon',\n",
       " '4.1 Awards, honours, and tributes': 'https://en.wikipedia.org/wiki/Alan_Turing#Awards,_honours,_and_tributes',\n",
       " '4.2 Centenary celebrations': 'https://en.wikipedia.org/wiki/Alan_Turing#Centenary_celebrations',\n",
       " '5.1 Notes': 'https://en.wikipedia.org/wiki/Alan_Turing#Notes',\n",
       " '5.2 References': 'https://en.wikipedia.org/wiki/Alan_Turing#References',\n",
       " '5.3 Sources': 'https://en.wikipedia.org/wiki/Alan_Turing#Sources',\n",
       " '6.1 Articles': 'https://en.wikipedia.org/wiki/Alan_Turing#Articles',\n",
       " '6.2 Books': 'https://en.wikipedia.org/wiki/Alan_Turing#Books'}"
      ]
     },
     "execution_count": 60,
     "metadata": {},
     "output_type": "execute_result"
    }
   ],
   "source": [
    "ahref = soup.select('.toc > ul > li > ul > li a')\n",
    "url = 'https://en.wikipedia.org/wiki/Alan_Turing'\n",
    "\n",
    "my_dict = dict()\n",
    "\n",
    "for link in ahref:\n",
    "    my_dict[link.text] = url + link.get('href')\n",
    "    \n",
    "my_dict"
   ]
  },
  {
   "cell_type": "markdown",
   "id": "d04b0382-ae55-4edd-b000-4881408fa2b4",
   "metadata": {},
   "source": [
    "6. Create a function that can take a word and look for it in the dictionary keys and then return the content from the first link that matches. Return the next p elements until next headline (h3 element)."
   ]
  },
  {
   "cell_type": "code",
   "execution_count": null,
   "id": "2e078594-8573-43ec-bdf8-ad7a82ce29ac",
   "metadata": {},
   "outputs": [],
   "source": [
    "def get_content(word):\n",
    "    ahref = soup.select('.toc > ul > li > ul > li a')\n",
    "    url = 'https://en.wikipedia.org/wiki/Alan_Turing'\n",
    "\n",
    "    my_dict = dict()\n",
    "\n",
    "    for link in ahref:\n",
    "        my_dict[link.text] = url + link.get('href')\n",
    "    \n",
    "    \n",
    "    "
   ]
  },
  {
   "cell_type": "markdown",
   "id": "dfc5129f-8df1-42a0-a6dd-a68ceeb13270",
   "metadata": {},
   "source": [
    "7. Make it into a cli program."
   ]
  }
 ],
 "metadata": {
  "kernelspec": {
   "display_name": "Python 3 (ipykernel)",
   "language": "python",
   "name": "python3"
  },
  "language_info": {
   "codemirror_mode": {
    "name": "ipython",
    "version": 3
   },
   "file_extension": ".py",
   "mimetype": "text/x-python",
   "name": "python",
   "nbconvert_exporter": "python",
   "pygments_lexer": "ipython3",
   "version": "3.10.5"
  }
 },
 "nbformat": 4,
 "nbformat_minor": 5
}
