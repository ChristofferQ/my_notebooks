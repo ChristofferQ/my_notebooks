{
 "cells": [
  {
   "cell_type": "markdown",
   "id": "ad65026b-0436-4a87-b194-9fd1c8eff668",
   "metadata": {},
   "source": [
    "# Exercise for the 3rd course week\n",
    "\n",
    "## Ex 1 Classes\n",
    "1. Create 3 classes: Student, DataSheet and Course\n",
    "2. A student has a data_sheet and a data_sheet has multiple courses in particular order\n",
    "3. Each course has name, classroom, teacher, ETCS and optional grade if course is taken.\n",
    "4. In Student update `__init__()` so that a Student can be initiated with name, gender, data_sheet and image_url\n",
    "5. In DataSheet create a method to get_grades_as_list()\n",
    "6. In student create a method: get_avg_grade()\n",
    "7. Create a function that can generate n number of students with random: name, gender, courses (from a fixed list of course names), grades, img_url\n",
    "   1. Let the function write the result to a csv file with format stud_name, course_name, teacher, ,gender, ects, classroom, grade, img_url\n",
    "7. Read student data into a list of Students from a csv file (Each student can appear on multiple lines): \n",
    "   1. loop through the list and print each student with name, img_url and avg_grade.\n",
    "   2. sort the list by avg_grade\n",
    "   3. create a bar chart with student_name on x and avg_grade on y-axis\n",
    "8. Make a method on Student class that can show progression of the study in % (add up ECTS from all passed courses divided by total of 150 total points (equivalent to 5 semesters))\n",
    "9. Show a bar chart of distribution of study progression on x-axis and number of students in each category on y-axis. (e.g. make 10 categories from 0-100%)"
   ]
  },
  {
   "cell_type": "code",
   "execution_count": 2,
   "id": "07d13e72-2994-4efc-a8d3-07689fc8b89b",
   "metadata": {
    "tags": []
   },
   "outputs": [],
   "source": [
    "class Student():\n",
    "    \n",
    "    def __init__(self, name, gender, data_sheet, image_url):\n",
    "        \"\"\"A student has a data sheet\"\"\"\n",
    "        self.name = name\n",
    "        self.gender = gender\n",
    "        self.data_sheet = data_sheet\n",
    "        self.image_url = image_url\n",
    "        \n",
    "    #def get_avg_grade():\n",
    "        \n",
    "        "
   ]
  },
  {
   "cell_type": "code",
   "execution_count": 36,
   "id": "12fd336b-03e7-4114-8b90-0af8a34aee33",
   "metadata": {},
   "outputs": [
    {
     "name": "stdout",
     "output_type": "stream",
     "text": [
      "Name: Peter\n",
      "Gender: Male\n",
      "DataSheet: data_sheeter\n",
      "Image: image001\n",
      "{'name': 'Peter', 'gender': 'Male', 'data_sheet': 'data_sheeter', 'image_url': 'image001'}\n"
     ]
    }
   ],
   "source": [
    "#Iniating a Student\n",
    "empty_student = Student('Peter','Male',\"data_sheeter\",\"image001\")\n",
    "\n",
    "print('Name:',empty_student.name)\n",
    "print('Gender:', empty_student.gender)\n",
    "print('DataSheet:', empty_student.data_sheet)\n",
    "print('Image:', empty_student.image_url)\n",
    "\n",
    "#Printing all data from empty_student\n",
    "print(empty_student.__dict__)"
   ]
  },
  {
   "cell_type": "code",
   "execution_count": 65,
   "id": "076483c0-08bf-4469-a701-2e4a185249bb",
   "metadata": {
    "tags": []
   },
   "outputs": [],
   "source": [
    "class DataSheet():\n",
    "    \n",
    "    def __init__(self, courses=[]):\n",
    "        \"\"\"A DataSheet has multiple courses\"\"\"\n",
    "        self.courses = courses   \n",
    "        \n",
    "    def get_grades_as_list(self, courses=1) -> Course:\n",
    "        \"\"\"Simulate opening a book, which returns a chapter \n",
    "        object.\"\"\" \n",
    "        return self.courses[course - 1]\n",
    "        \n",
    "        "
   ]
  },
  {
   "cell_type": "code",
   "execution_count": 40,
   "id": "1a7a7e34-04f2-4dbd-bc75-df2ecc74132d",
   "metadata": {},
   "outputs": [
    {
     "name": "stdout",
     "output_type": "stream",
     "text": [
      "{'courses': []}\n"
     ]
    }
   ],
   "source": [
    "#Iniating a DataSheet\n",
    "empty_datasheet = DataSheet([])\n",
    "\n",
    "#Printing all data from empty_datasheet\n",
    "print(empty_datasheet.__dict__)"
   ]
  },
  {
   "cell_type": "code",
   "execution_count": 76,
   "id": "8a82e68b-7ec8-433d-aea2-6b95eb593576",
   "metadata": {},
   "outputs": [],
   "source": [
    "class Course():\n",
    "    \n",
    "    def __init__(self, name, classroom, teacher, ETCS, optional_grade):\n",
    "        \"\"\"A course is a course is a course\"\"\"\n",
    "        self.name = name\n",
    "        self.classroom = classroom\n",
    "        self.teacher = teacher\n",
    "        self.ETCS = ETCS\n",
    "        self.optional_grade = optional_grade\n",
    "        \n",
    "    def __str__(self):\n",
    "        return 'name: {name}, classroom: {classroom}, teacher: {teacher}, ETCS: {ETCS}, grade: {optional_grade}.'.format(\n",
    "            name=self.name,  classroom=self.classroom, teacher=self.teacher, ETCS=self.ETCS, optional_grade=self.optional_grade)"
   ]
  },
  {
   "cell_type": "code",
   "execution_count": 77,
   "id": "16939e87-4b04-4134-8d0f-7a097f6ec8f9",
   "metadata": {},
   "outputs": [
    {
     "name": "stdout",
     "output_type": "stream",
     "text": [
      "{'name': 'course1', 'classroom': 'Classroom1', 'teacher': 'teacher1', 'ETCS': '15', 'optional_grade': 'F'}\n"
     ]
    }
   ],
   "source": [
    "#Iniating a Course\n",
    "empty_course = Course('course1','Classroom1','teacher1','15','F')\n",
    "\n",
    "#Printing all data from empty_dcourse\n",
    "print(empty_course.__dict__)"
   ]
  },
  {
   "cell_type": "code",
   "execution_count": 16,
   "id": "7b765039-0252-45e3-b752-c654d8d94817",
   "metadata": {},
   "outputs": [],
   "source": [
    "#Iniating a student with a random name from a list\n",
    "\n",
    "import random\n",
    "\n",
    "names = ['Bo','Børge','Bob']\n",
    "\n",
    "student1 = Student(random.choice(names),'Male',\"data_sheeter\",\"image001\")"
   ]
  },
  {
   "cell_type": "code",
   "execution_count": 11,
   "id": "e5dc4fa9-05dd-4ddf-a433-219ec14b775d",
   "metadata": {},
   "outputs": [
    {
     "name": "stdout",
     "output_type": "stream",
     "text": [
      "Børge\n"
     ]
    }
   ],
   "source": [
    "#checking to see if student1 name is randomized\n",
    "\n",
    "print(student1.name)"
   ]
  },
  {
   "cell_type": "code",
   "execution_count": 78,
   "id": "622abd8c-c71b-4067-8c5f-b97653f56c6b",
   "metadata": {},
   "outputs": [
    {
     "name": "stdout",
     "output_type": "stream",
     "text": [
      "1\n",
      "name: course1, classroom: Classroom1, teacher: teacher1, ETCS: 15, grade: F.\n"
     ]
    }
   ],
   "source": [
    "datasheet1 = DataSheet ([empty_course])\n",
    "\n",
    "print(len(datasheet1.courses))\n",
    "\n",
    "print(empty_course)"
   ]
  }
 ],
 "metadata": {
  "kernelspec": {
   "display_name": "Python 3 (ipykernel)",
   "language": "python",
   "name": "python3"
  },
  "language_info": {
   "codemirror_mode": {
    "name": "ipython",
    "version": 3
   },
   "file_extension": ".py",
   "mimetype": "text/x-python",
   "name": "python",
   "nbconvert_exporter": "python",
   "pygments_lexer": "ipython3",
   "version": "3.10.6"
  }
 },
 "nbformat": 4,
 "nbformat_minor": 5
}
